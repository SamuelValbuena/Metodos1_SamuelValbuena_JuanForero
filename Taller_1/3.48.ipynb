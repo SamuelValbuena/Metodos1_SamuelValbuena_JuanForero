{
 "cells": [
  {
   "cell_type": "markdown",
   "id": "87aa946f",
   "metadata": {},
   "source": [
    "## 3.48"
   ]
  },
  {
   "cell_type": "markdown",
   "id": "0efabf09",
   "metadata": {},
   "source": [
    "Calcular todas las raices reales de f(x) = 3x^{5}+5x^^4-x^^3"
   ]
  },
  {
   "cell_type": "code",
   "execution_count": 9,
   "id": "166445d5",
   "metadata": {},
   "outputs": [
    {
     "name": "stdout",
     "output_type": "stream",
     "text": [
      "Las raíces reales son:\n",
      "[-1.84712709  0.18046042  0.          0.          0.        ]\n"
     ]
    }
   ],
   "source": [
    "import numpy as np\n",
    "def f(x):\n",
    "    x = 3*x**5 + 5*x**4 - x**3\n",
    "    return x\n",
    "raices = (np.roots([3, 5, -1, 0, 0, 0]))\n",
    "print(\"Las raíces reales son:\")\n",
    "for n in raices:\n",
    "    if np.isreal(n) == False:\n",
    "        np.delete(raices, n)\n",
    "print(raices)"
   ]
  },
  {
   "cell_type": "code",
   "execution_count": null,
   "id": "0ab62382",
   "metadata": {},
   "outputs": [],
   "source": []
  }
 ],
 "metadata": {
  "kernelspec": {
   "display_name": "Python 3",
   "language": "python",
   "name": "python3"
  },
  "language_info": {
   "codemirror_mode": {
    "name": "ipython",
    "version": 3
   },
   "file_extension": ".py",
   "mimetype": "text/x-python",
   "name": "python",
   "nbconvert_exporter": "python",
   "pygments_lexer": "ipython3",
   "version": "3.8.8"
  }
 },
 "nbformat": 4,
 "nbformat_minor": 5
}
