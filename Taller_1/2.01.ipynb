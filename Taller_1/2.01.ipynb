{
 "cells": [
  {
   "cell_type": "markdown",
   "id": "a08d1c71",
   "metadata": {},
   "source": [
    "## 2.01 Números Factoriales"
   ]
  },
  {
   "cell_type": "markdown",
   "id": "f7fbc29d",
   "metadata": {},
   "source": [
    "Escriba una función que calcule el factorial de n, con n ∈ N.\n",
    "n! = n(n − 1)(n − 2)...1 \n",
    "Calcule los primeros 20 números factoriales"
   ]
  },
  {
   "cell_type": "code",
   "execution_count": 2,
   "id": "f0c2a7c1",
   "metadata": {},
   "outputs": [],
   "source": [
    "import numpy as np\n",
    "import matplotlib.pyplot as plt\n",
    "import matplotlib.animation as anim"
   ]
  },
  {
   "cell_type": "code",
   "execution_count": 3,
   "id": "02e5196e",
   "metadata": {},
   "outputs": [
    {
     "name": "stdout",
     "output_type": "stream",
     "text": [
      "[1, 2, 6, 24, 120, 720, 5040, 40320, 362880, 3628800, 39916800, 479001600, 6227020800, 87178291200, 1307674368000, 20922789888000, 355687428096000, 6402373705728000, 121645100408832000, 2432902008176640000]\n"
     ]
    }
   ],
   "source": [
    "def factorial(n):\n",
    "    \n",
    "    num = np.linspace(1,n,n)\n",
    "    lista_factoriales=[]\n",
    "\n",
    "    fac = 1\n",
    "    i = 1\n",
    "    j = 1\n",
    "    \n",
    "    for i in range(n+1):\n",
    "        \n",
    "        while j <= i:\n",
    "            fac= fac*j\n",
    "            \n",
    "            lista_factoriales.append(fac)\n",
    "            j+=1\n",
    "        \n",
    "        i+=1\n",
    "    \n",
    "    return lista_factoriales\n",
    "\n",
    "print(factorial(20))"
   ]
  },
  {
   "cell_type": "code",
   "execution_count": null,
   "id": "61162526",
   "metadata": {},
   "outputs": [],
   "source": []
  }
 ],
 "metadata": {
  "kernelspec": {
   "display_name": "Python 3",
   "language": "python",
   "name": "python3"
  },
  "language_info": {
   "codemirror_mode": {
    "name": "ipython",
    "version": 3
   },
   "file_extension": ".py",
   "mimetype": "text/x-python",
   "name": "python",
   "nbconvert_exporter": "python",
   "pygments_lexer": "ipython3",
   "version": "3.8.8"
  }
 },
 "nbformat": 4,
 "nbformat_minor": 5
}
