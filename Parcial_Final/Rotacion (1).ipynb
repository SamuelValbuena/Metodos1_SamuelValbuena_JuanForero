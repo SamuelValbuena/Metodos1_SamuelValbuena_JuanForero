{
 "cells": [
  {
   "cell_type": "markdown",
   "id": "e5cf5e25",
   "metadata": {},
   "source": [
    "# Estimacion de la velocidad de rotacion terrestre"
   ]
  },
  {
   "cell_type": "markdown",
   "id": "7dcb4bf2",
   "metadata": {},
   "source": [
    "## A) Descarguen los datos experimentales de cada canal de observacion."
   ]
  },
  {
   "cell_type": "code",
   "execution_count": 61,
   "id": "c3fdaee6",
   "metadata": {},
   "outputs": [],
   "source": [
    "import os\n",
    "import wget\n",
    "import pandas as pd\n",
    "import numpy as np\n",
    "import scipy.optimize as spo\n",
    "import matplotlib.pyplot as plt\n",
    "\n",
    "data_folder = 'Data'\n",
    "if not os.path.exists(data_folder):\n",
    "    os.mkdir(data_folder)\n",
    "\n",
    "data_file = os.path.join(data_folder, 'DataRotacion.csv')\n",
    "data_url = 'https://raw.githubusercontent.com/asegura4488/Database/main/MetodosComputacionalesReforma/DataRotacion.csv'\n",
    "\n",
    "if not os.path.exists(data_file):\n",
    "    wget.download(data_url, data_file)\n",
    "    print('File loaded')"
   ]
  },
  {
   "cell_type": "markdown",
   "id": "d07f2773",
   "metadata": {},
   "source": [
    "## B) Cargue los datos usando Pandas y haga un filtrado para obtener los datos correspondientes a λ = 30.\n"
   ]
  },
  {
   "cell_type": "code",
   "execution_count": 62,
   "id": "3ca8e1cf",
   "metadata": {},
   "outputs": [],
   "source": [
    "data = pd.read_csv(data_file)\n",
    "angle_filter = data['angle'] == 30\n",
    "filtered_data = data[angle_filter].copy()\n",
    "h_values = np.array(filtered_data['h'])\n",
    "y_values = np.array(filtered_data['y'])\n",
    "sigmay_values = np.array(filtered_data['sigmay'])"
   ]
  },
  {
   "cell_type": "markdown",
   "id": "804e6312",
   "metadata": {},
   "source": [
    "## C) Defina el modelo fisico presentado para la desviacion por efecto coriolis. El modelo debe tener como entrada la altura inicial de caida h, el parametro de ajuste p = ω, la latitud λ y la aceleracion de la gravedad g."
   ]
  },
  {
   "cell_type": "code",
   "execution_count": 63,
   "id": "682d06c0",
   "metadata": {},
   "outputs": [],
   "source": [
    "def coriolis_model(h, lamb, p, g=9.81):\n",
    "    y = 2 * np.sqrt(2) * (1 / 3) * p * np.cos(np.deg2rad(lamb)) * np.sqrt(h**3 / g)\n",
    "    return y"
   ]
  },
  {
   "cell_type": "markdown",
   "id": "a66ef516",
   "metadata": {},
   "source": [
    "## D) Defina la funcion χ^2, donde los argumentos son (h, y, sigmay, angle, g)"
   ]
  },
  {
   "cell_type": "code",
   "execution_count": 67,
   "id": "9f7ac684",
   "metadata": {},
   "outputs": [],
   "source": [
    "def funcion(p, h, y, sigmay, g=9.81, angle=30):\n",
    "    model = coriolis_model(h, angle, p, g)\n",
    "    residuals = y - model\n",
    "    chi2 = np.sum(residuals**2 / (2 * sigmay**2))\n",
    "    return chi2\n"
   ]
  },
  {
   "cell_type": "markdown",
   "id": "76a9e758",
   "metadata": {},
   "source": [
    "## E) Minimice usando optimize. Para λ = 30, deberia obtener ω = 7.24 × 10^−5"
   ]
  },
  {
   "cell_type": "code",
   "execution_count": 70,
   "id": "078c800d",
   "metadata": {},
   "outputs": [
    {
     "name": "stdout",
     "output_type": "stream",
     "text": [
      "Optimization terminated successfully.\n",
      "         Current function value: 1.145718\n",
      "         Iterations: 3\n",
      "         Function evaluations: 8\n",
      "         Gradient evaluations: 4\n",
      "ω es: 7.243998042010375e-05\n"
     ]
    }
   ],
   "source": [
    "p0 = np.ones(1)\n",
    "minimize_options = {'disp': True}\n",
    "result = spo.minimize(funcion, p0, args=(h_values, y_values, sigmay_values), options=minimize_options)\n",
    "omega = result.x[0]\n",
    "print(\"ω es:\", omega)"
   ]
  },
  {
   "cell_type": "markdown",
   "id": "25fad5ec",
   "metadata": {},
   "source": [
    "## F) Dibuje los datos y el modelo para esa latitud."
   ]
  },
  {
   "cell_type": "code",
   "execution_count": 71,
   "id": "c0fd4709",
   "metadata": {},
   "outputs": [
    {
     "data": {
      "image/png": "[encoded data removed]",
      "text/plain": [
       "<Figure size 432x288 with 1 Axes>"
      ]
     },
     "metadata": {
      "needs_background": "light"
     },
     "output_type": "display_data"
    }
   ],
   "source": [
    "h_model = np.linspace(np.min(h_values), np.max(h_values), 100)\n",
    "y_model = coriolis_model(h_model, 30, omega)\n",
    "plt.errorbar(h_values, y_values, yerr=sigmay_values, fmt='o', color='blue', label=\"Datos\")\n",
    "plt.plot(h_model, y_model, 'r', label=\"Modelo\")\n",
    "plt.xlabel(\"h(m)\")\n",
    "plt.ylabel(\"y(m)\")\n",
    "plt.title(\"Desviación de Coriolis como función de la altura para la latitud λ = 30\")\n",
    "plt.legend()\n",
    "plt.show()"
   ]
  }
 ],
 "metadata": {
  "kernelspec": {
   "display_name": "Python 3",
   "language": "python",
   "name": "python3"
  },
  "language_info": {
   "codemirror_mode": {
    "name": "ipython",
    "version": 3
   },
   "file_extension": ".py",
   "mimetype": "text/x-python",
   "name": "python",
   "nbconvert_exporter": "python",
   "pygments_lexer": "ipython3",
   "version": "3.8.8"
  }
 },
 "nbformat": 4,
 "nbformat_minor": 5
}
