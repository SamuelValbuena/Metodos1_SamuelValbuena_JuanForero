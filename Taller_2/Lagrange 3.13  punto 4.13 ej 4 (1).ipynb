{
 "cells": [
  {
   "cell_type": "markdown",
   "id": "4c509415",
   "metadata": {},
   "source": [
    "## 5. Interpolación Newton-Gregory"
   ]
  },
  {
   "cell_type": "markdown",
   "id": "9ec921e1",
   "metadata": {},
   "source": [
    "En el lanzamiento de una bala, una camara fotografica registra las siguientes posiciones\n",
    "en metros respecto al arma homicida (tome ~g = −9.8 m/s2 ˆj):\n",
    "https://raw.githubusercontent.com/asegura4488/Database/main/MetodosComputacionalesReforma/\n",
    "Parabolico.csv\n",
    "Estime el vector velocidad inicial, que estarıa definido por la magnitud y direccion"
   ]
  },
  {
   "cell_type": "code",
   "execution_count": 60,
   "id": "9251d785",
   "metadata": {},
   "outputs": [
    {
     "name": "stdout",
     "output_type": "stream",
     "text": [
      "Ángulo de lanzamiento: 20.0 grados\n",
      "Velocidad inicial: 10.0 m/s\n"
     ]
    }
   ],
   "source": [
    "import numpy as np\n",
    "import pandas as pd\n",
    "import matplotlib.pyplot as plt\n",
    "import sympy as sym\n",
    "\n",
    "\n",
    "def leer_datos(url):\n",
    "    df = pd.read_csv(url, skiprows=[0], header=None, names=['x', 'y'])\n",
    "    return df['x'].values, df['y'].values\n",
    "\n",
    "\n",
    "def interpolacion_lagrange(x, xi, yi):\n",
    "    prod = 1.0\n",
    "    n = len(xi)\n",
    "    \n",
    "    for j in range(n):\n",
    "        num, den = 1.0, 1.0\n",
    "        \n",
    "        for i in range(n):\n",
    "            if i != j:\n",
    "                num *= (x - xi[i])\n",
    "                den *= (xi[j] - xi[i])\n",
    "        \n",
    "        prod += yi[j] * (num / den)\n",
    "    \n",
    "    return prod\n",
    "def interpolar(xi, yi):\n",
    "    x = sym.Symbol('x', real=True)\n",
    "    return interpolacion_lagrange(x, xi, yi)\n",
    "\n",
    "\n",
    "def encontrar_parametros_lanzamiento(xi, yi):\n",
    "    p = interpolar(xi, yi)\n",
    "    p = sym.simplify(p)\n",
    "    p = sym.Poly(p)\n",
    "    coeff = np.array(p.all_coeffs())\n",
    "    theta = np.arctan(float(coeff[1]))\n",
    "    g = -9.8\n",
    "    v_0 = np.sqrt(g / (2 * float(coeff[0]) * np.cos(theta) ** 2))\n",
    "    return np.degrees(theta), v_0\n",
    "    \n",
    "    \n",
    "url = 'https://raw.githubusercontent.com/asegura4488/Database/main/MetodosComputacionalesReforma/Parabolico.csv'\n",
    "X, Y = leer_datos(url)\n",
    "theta, v_0 = encontrar_parametros_lanzamiento(X, Y)\n",
    "print(f\"Ángulo de lanzamiento: {theta} grados\")\n",
    "print(f\"Velocidad inicial: {round(v_0, 1)} m/s\")\n",
    "\n"
   ]
  },
  {
   "cell_type": "code",
   "execution_count": null,
   "id": "459f0c3c",
   "metadata": {},
   "outputs": [],
   "source": []
  }
 ],
 "metadata": {
  "kernelspec": {
   "display_name": "Python 3",
   "language": "python",
   "name": "python3"
  },
  "language_info": {
   "codemirror_mode": {
    "name": "ipython",
    "version": 3
   },
   "file_extension": ".py",
   "mimetype": "text/x-python",
   "name": "python",
   "nbconvert_exporter": "python",
   "pygments_lexer": "ipython3",
   "version": "3.8.8"
  }
 },
 "nbformat": 4,
 "nbformat_minor": 5
}
