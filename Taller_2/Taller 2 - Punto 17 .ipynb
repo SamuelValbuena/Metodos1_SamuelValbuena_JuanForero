{
 "cells": [
  {
   "cell_type": "code",
   "execution_count": 1,
   "metadata": {},
   "outputs": [],
   "source": [
    "import numpy as np\n",
    "import sympy as sym\n",
    "from scipy import integrate"
   ]
  },
  {
   "cell_type": "code",
   "execution_count": 4,
   "metadata": {},
   "outputs": [],
   "source": [
    "def gauss_integrate(n):\n",
    "  f = lambda x: x**3 / (np.exp(x)-1)\n",
    "  Roots1, Weights1 = np.polynomial.laguerre.laggauss(n)\n",
    "  X = np.array(Roots1)\n",
    "  W = np.array(Weights1)\n",
    "  suma = 0 \n",
    "\n",
    "  for i in range(len(X)):\n",
    "      suma += W[i]* f(X[i])\n",
    "      \n",
    "  gauss_int = suma\n",
    "  \n",
    "\n",
    "  return gauss_int\n"
   ]
  },
  {
   "cell_type": "code",
   "execution_count": 5,
   "metadata": {},
   "outputs": [
    {
     "data": {
      "text/plain": [
       "0.481130171540025"
      ]
     },
     "execution_count": 5,
     "metadata": {},
     "output_type": "execute_result"
    }
   ],
   "source": [
    "gauss_integrate(3)"
   ]
  },
  {
   "cell_type": "code",
   "execution_count": null,
   "metadata": {},
   "outputs": [],
   "source": []
  }
 ],
 "metadata": {
  "kernelspec": {
   "display_name": "Python 3",
   "language": "python",
   "name": "python3"
  },
  "language_info": {
   "codemirror_mode": {
    "name": "ipython",
    "version": 3
   },
   "file_extension": ".py",
   "mimetype": "text/x-python",
   "name": "python",
   "nbconvert_exporter": "python",
   "pygments_lexer": "ipython3",
   "version": "3.8.5"
  }
 },
 "nbformat": 4,
 "nbformat_minor": 4
}
