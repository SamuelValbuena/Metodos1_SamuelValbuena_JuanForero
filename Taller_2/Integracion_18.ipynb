{
 "cells": [
  {
   "cell_type": "markdown",
   "id": "89f0f019",
   "metadata": {},
   "source": [
    "## Punto 18"
   ]
  },
  {
   "cell_type": "code",
   "execution_count": 7,
   "id": "cd353b59",
   "metadata": {},
   "outputs": [
    {
     "name": "stdout",
     "output_type": "stream",
     "text": [
      "La aproximación de la integral usando el método de cuadratura de Gauss-Hermite con N=10 es: 6142.79589532724\n"
     ]
    }
   ],
   "source": [
    "import sympy as sym\n",
    "import numpy as np\n",
    "def function(x):\n",
    "    return x**2\n",
    "def psi_1(x):\n",
    "    psi = 1/np.sqrt(2)*(1/np.pi)**(1/4)*2*x\n",
    "    return psi**2\n",
    "x = sym.Symbol(\"x\", real=True)\n",
    "y = sym.Symbol(\"y\", real=True)\n",
    "n = 20\n",
    "Hermite = [sym.exp(-x**2/2)]\n",
    "for i in range(1, n):\n",
    "    Hermite.append((-1)**i * sym.exp(x**2/2) * sym.diff(sym.exp(-x**2/2), x, i))\n",
    "\n",
    "Roots = [[]]\n",
    "interval = np.arange(-20, 20, 0.1)\n",
    "for i in Hermite[1:]:\n",
    "    f = sym.lambdify(x, i)\n",
    "    df = sym.lambdify(x, sym.diff(i))\n",
    "    roots = GetAllRoots(f, df, interval)\n",
    "    Roots.append(roots)\n",
    "for i in range(7, n):\n",
    "    if i % 2 == 1:\n",
    "        Roots[i] = np.delete(Roots[i], -1)\n",
    "weights = []\n",
    "for i in range(1, len(Hermite)):\n",
    "    weights_ = []\n",
    "    for j in Roots[i]:\n",
    "        Hermite_ = sym.lambdify([x], Hermite[i - 1], 'numpy')\n",
    "        weights_.append(sym.simplify((2**(i-1)*np.math.factorial(i)*np.sqrt(np.pi))/(i**2*Hermite_(float(j))**2)))\n",
    "    weights.append(weights_)\n",
    "Sum = 0\n",
    "N = 10\n",
    "for i in range(len(weights[N])):\n",
    "    Sum += weights[N][i] * psi_1(Roots[N+1][i]) * function(Roots[N+1][i])\n",
    "print(f\"La aproximación de la integral usando el método de cuadratura de Gauss-Hermite con N={N} es: {Sum}\")\n"
   ]
  },
  {
   "cell_type": "code",
   "execution_count": null,
   "id": "3f8525ce",
   "metadata": {},
   "outputs": [],
   "source": []
  }
 ],
 "metadata": {
  "kernelspec": {
   "display_name": "Python 3",
   "language": "python",
   "name": "python3"
  },
  "language_info": {
   "codemirror_mode": {
    "name": "ipython",
    "version": 3
   },
   "file_extension": ".py",
   "mimetype": "text/x-python",
   "name": "python",
   "nbconvert_exporter": "python",
   "pygments_lexer": "ipython3",
   "version": "3.8.8"
  }
 },
 "nbformat": 4,
 "nbformat_minor": 5
}
