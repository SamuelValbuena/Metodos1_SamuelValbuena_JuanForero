{
 "cells": [
  {
   "cell_type": "markdown",
   "id": "4c7bc5e8",
   "metadata": {},
   "source": [
    "## Superconductividad: BSC(Bardeen,Schrieffer,Cooper) Temperatura crıtica"
   ]
  },
  {
   "cell_type": "markdown",
   "id": "db1ddff0",
   "metadata": {},
   "source": [
    "Estime Tc donde el material se convierte en superconductor."
   ]
  },
  {
   "cell_type": "code",
   "execution_count": 53,
   "id": "4b35c821",
   "metadata": {},
   "outputs": [
    {
     "name": "stdout",
     "output_type": "stream",
     "text": [
      "La temperatura crítica es: 12.11041 K.\n"
     ]
    }
   ],
   "source": [
    "import numpy as np\n",
    "def band(x, Temp, difT):\n",
    "    r = ((np.tanh((x**2 + difT**2)**(0.5) * 300/(2*Temp)))/(x**2 + difT**2)**(0.5))/2\n",
    "    return r\n",
    "def critic(R, W, T, d):\n",
    "    for temp in T:\n",
    "        integral = np.sum(W * band(R, temp, d))\n",
    "        if np.isclose(integral, 1/0.3, rtol=1e-9, atol=d):\n",
    "            return temp\n",
    "R, W = np.polynomial.legendre.leggauss(100)\n",
    "T, d = np.linspace(1, 20, 10000, retstep=True)\n",
    "critical_temp = round(critic(R, W, T, d), 5)\n",
    "print(\"La temperatura crítica es:\", critical_temp, \"K.\")"
   ]
  },
  {
   "cell_type": "code",
   "execution_count": null,
   "id": "2cc945e1",
   "metadata": {},
   "outputs": [],
   "source": []
  }
 ],
 "metadata": {
  "kernelspec": {
   "display_name": "Python 3",
   "language": "python",
   "name": "python3"
  },
  "language_info": {
   "codemirror_mode": {
    "name": "ipython",
    "version": 3
   },
   "file_extension": ".py",
   "mimetype": "text/x-python",
   "name": "python",
   "nbconvert_exporter": "python",
   "pygments_lexer": "ipython3",
   "version": "3.8.8"
  }
 },
 "nbformat": 4,
 "nbformat_minor": 5
}
