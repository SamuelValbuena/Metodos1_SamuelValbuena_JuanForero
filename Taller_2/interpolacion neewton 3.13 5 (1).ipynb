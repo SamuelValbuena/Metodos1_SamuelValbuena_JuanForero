{
 "cells": [
  {
   "cell_type": "markdown",
   "id": "9f56cf81",
   "metadata": {},
   "source": [
    "## Interpolacíon Newton-Gregory:"
   ]
  },
  {
   "cell_type": "markdown",
   "id": "e9f6f40a",
   "metadata": {},
   "source": [
    "Para el siguiente conjunto de puntos:\n",
    "https://raw.githubusercontent.com/asegura4488/Database/main/MetodosComputacionalesReforma/\n",
    "InterpolacionNewtonNoequi.csv\n",
    "Encuentre el polinomio interpolante de menor grado usando el metodo Newton-Gregory.\n"
   ]
  },
  {
   "cell_type": "code",
   "execution_count": 26,
   "id": "318d3b67",
   "metadata": {},
   "outputs": [
    {
     "name": "stdout",
     "output_type": "stream",
     "text": [
      "El polinomio de Newton es: -0.34145435774264*x**5 + 5.84804869821673*x**4 - 35.6998197753506*x**3 + 89.657566164176*x**2 - 68.8369730888011*x - 18.0\n"
     ]
    },
    {
     "data": {
      "image/png": "[encoded data removed]",
      "text/plain": [
       "<Figure size 432x288 with 1 Axes>"
      ]
     },
     "metadata": {
      "needs_background": "light"
     },
     "output_type": "display_data"
    }
   ],
   "source": [
    "import numpy as np\n",
    "import matplotlib.pyplot as plt\n",
    "import pandas as pd\n",
    "import urllib.request\n",
    "import sympy as sym\n",
    "url = 'https://raw.githubusercontent.com/asegura4488/Database/main/MetodosComputacionalesReforma/InterpolacionNewtonNoequi.csv'\n",
    "filename = 'InterpolacionNewtonNoequi.csv'\n",
    "urllib.request.urlretrieve(url, filename)\n",
    "data = pd.read_csv(filename, skiprows=[0], header=None, names=['x', 'y'])\n",
    "def calcula_coeficientes_interpolacion_newton(x, y):\n",
    "    n = len(x)\n",
    "    a = []\n",
    "    valores_a = np.zeros([n,n])\n",
    "    for i in range(len(x)):\n",
    "        for j in range(len(y)):\n",
    "            if j == 0:\n",
    "                valores_a[i,j] = y[i]\n",
    "            elif i < j:\n",
    "                valores_a[i,j] = (y[j]-y[j-1])/(x[i]-x[i-1])\n",
    "            else:\n",
    "                valores_a[i,j] = (valores_a[i,j-1] - valores_a[i-1,j-1])/(x[i]-x[i-j])\n",
    "            if i == j:\n",
    "                a.append(valores_a[i,j])\n",
    "    return a \n",
    "def calcula_polinomio_newton(lista, x, y):\n",
    "    a = calcula_coeficientes_interpolacion_newton(x, y)\n",
    "    suma = a[0]\n",
    "    poly = 1.0\n",
    "    for i in range(1,len(x)):\n",
    "        poly *= ( lista - x[i-1] )\n",
    "        suma += poly*(a[i])\n",
    "    return suma \n",
    "x = data['x'].values\n",
    "y = data['y'].values\n",
    "lista = np.linspace(np.min(x),np.max(x),100)\n",
    "w = sym.Symbol('x')\n",
    "f = calcula_polinomio_newton(w,x,y)\n",
    "f = sym.expand(f)\n",
    "print(\"El polinomio de Newton es:\" , f)\n",
    "valor = calcula_polinomio_newton(lista, x, y)\n",
    "plt.plot(lista, valor, color=\"blue\")\n",
    "plt.scatter(x,y, color=\"r\")\n",
    "plt.title(\"Interpolacion Newton-Gregory\")\n",
    "leyenda = plt.legend([\"Interpolación\",\"Datos\"])\n",
    "plt.show()"
   ]
  }
 ],
 "metadata": {
  "kernelspec": {
   "display_name": "Python 3",
   "language": "python",
   "name": "python3"
  },
  "language_info": {
   "codemirror_mode": {
    "name": "ipython",
    "version": 3
   },
   "file_extension": ".py",
   "mimetype": "text/x-python",
   "name": "python",
   "nbconvert_exporter": "python",
   "pygments_lexer": "ipython3",
   "version": "3.8.8"
  }
 },
 "nbformat": 4,
 "nbformat_minor": 5
}
