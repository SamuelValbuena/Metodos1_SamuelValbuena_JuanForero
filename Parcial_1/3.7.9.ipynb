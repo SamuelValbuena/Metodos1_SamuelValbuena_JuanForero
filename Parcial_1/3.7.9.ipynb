{
 "cells": [
  {
   "cell_type": "code",
   "execution_count": 11,
   "id": "3f554952",
   "metadata": {},
   "outputs": [
    {
     "name": "stdout",
     "output_type": "stream",
     "text": [
      "Los ceficientes para la derivada de orden 2 con una discretización de 5 puntos nodales son:\n",
      "[1/(12*h), -2/(3*h), 0, 2/(3*h), -1/(12*h)]\n"
     ]
    }
   ],
   "source": [
    "import sympy as sym\n",
    "from sympy.polys.polyfuncs import interpolate\n",
    "from scipy.special import factorial\n",
    "x = sym.Symbol('x', real=True)\n",
    "h = sym.Symbol('h', real=True)\n",
    "X = [-2*h,-h,0,h,2*h]\n",
    "def Lagrange(x,xi,j):\n",
    "    \n",
    "    prod = 1\n",
    "  \n",
    "    n = len(xi)\n",
    "  \n",
    "    for i in range(n):\n",
    "       \n",
    "        if i != j:\n",
    "            prod *= (x - xi[i])/(xi[j]-xi[i])\n",
    "            \n",
    "    return prod\n",
    "\n",
    "\n",
    "def GetCoefficients(x, p, X):\n",
    "    Coefficients = []\n",
    "    for i in range(len(X)):\n",
    "        Li = Lagrange(x, X,i)\n",
    "        dLi = sym.diff(Li, x, 1)\n",
    "        C = dLi.subs(x, X[p])\n",
    "        Coefficients.append(C)\n",
    "    return Coefficients\n",
    "\n",
    "\n",
    "\n",
    "Coefficients = GetCoefficients(x, 2, X)\n",
    "print( 'Los ceficientes para la derivada de orden 2 con una discretización de 5 puntos nodales son:')\n",
    "print(Coefficients)"
   ]
  },
  {
   "cell_type": "markdown",
   "id": "bd60c740",
   "metadata": {},
   "source": [
    "## Orden de aproximacion"
   ]
  },
  {
   "cell_type": "markdown",
   "id": "02f1e7dc",
   "metadata": {},
   "source": [
    "El orden de aproximación del polinomio de interpolación de Lagrange esta dado por el error asociado al polinomio. Que esta dado por:\n",
    "f(x) - P4(x) = (1/factorial(5))f**(5)(p)*(x+2h)(x+h)x(x-h)(x-2h)\n",
    "f(x) es nuestra función \n",
    "P4(x) es el polinomio de interpolación de Lagrange de orden 4 entonces n=4\n",
    "f^(n+1) es la quinta derivada de f(x)\n",
    "p es un punto del intervalo\n",
    "n=4 y x0=-2h, x1=-h, x2=0, x3=h y x4=2h. \n",
    "Si simplificamos esta expresion podemos ver que el orden de aproximacion es:\n",
    "f(x) - P4(x) = O(h**5)\n",
    "\n",
    "## El Orden de aproximación del polinomio de interpolación de Lagrange es O(h**5) que es proporcional a h**5.\n"
   ]
  }
 ],
 "metadata": {
  "kernelspec": {
   "display_name": "Python 3",
   "language": "python",
   "name": "python3"
  },
  "language_info": {
   "codemirror_mode": {
    "name": "ipython",
    "version": 3
   },
   "file_extension": ".py",
   "mimetype": "text/x-python",
   "name": "python",
   "nbconvert_exporter": "python",
   "pygments_lexer": "ipython3",
   "version": "3.8.8"
  }
 },
 "nbformat": 4,
 "nbformat_minor": 5
}
