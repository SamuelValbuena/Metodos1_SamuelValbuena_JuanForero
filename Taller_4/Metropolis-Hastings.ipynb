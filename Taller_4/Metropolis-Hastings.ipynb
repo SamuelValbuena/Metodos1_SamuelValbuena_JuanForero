{
 "cells": [
  {
   "cell_type": "markdown",
   "id": "0b106f09",
   "metadata": {},
   "source": [
    "1)"
   ]
  },
  {
   "cell_type": "code",
   "execution_count": 5,
   "id": "c37006ac",
   "metadata": {},
   "outputs": [
    {
     "name": "stdout",
     "output_type": "stream",
     "text": [
      "1058\n",
      "0.8193\n",
      "[0.5744602  2.12394885]\n",
      "La moneda está truncada.\n"
     ]
    }
   ],
   "source": [
    "import numpy as np\n",
    "import scipy.stats as stats\n",
    "\n",
    "n = 10\n",
    "r = 7\n",
    "\n",
    "prior = stats.uniform(loc=0, scale=1)\n",
    "\n",
    "def likelihood(p):\n",
    "    return stats.binom.pmf(r, n, p)\n",
    "\n",
    "def posterior(p):\n",
    "    return likelihood(p) * prior.pdf(p)\n",
    "\n",
    "def metropolis(n_iterations, initial_value):\n",
    "    samples = [initial_value]\n",
    "    current_value = initial_value\n",
    "\n",
    "    for _ in range(n_iterations):\n",
    "        proposed_value = np.random.normal(current_value, 0.1)\n",
    "\n",
    "        acceptance_ratio = posterior(proposed_value) / posterior(current_value)\n",
    "        acceptance_prob = min(1, acceptance_ratio)\n",
    "        if np.random.uniform() < acceptance_prob:\n",
    "            current_value = proposed_value\n",
    "\n",
    "        samples.append(current_value)\n",
    "\n",
    "    return samples\n",
    "\n",
    "n_iterations = 10000\n",
    "initial_value = 0.5\n",
    "samples = metropolis(n_iterations, initial_value)\n",
    "\n",
    "maximum_a_posteriori = np.argmax(samples)\n",
    "\n",
    "print(round(maximum_a_posteriori, 5))\n",
    "\n",
    "posterior_std = np.std(samples)\n",
    "quantiles = np.percentile(samples, [16, 84])\n",
    "\n",
    "print(round(posterior_std, 5))\n",
    "print(quantiles)\n",
    "\n",
    "posterior_mean = np.mean(samples)\n",
    "is_biased = np.abs(posterior_mean - 0.5) > 0.1\n",
    "\n",
    "if is_biased:\n",
    "    print(\"La moneda está truncada.\")\n",
    "else:\n",
    "    print(\"La moneda no está truncada.\")\n"
   ]
  },
  {
   "cell_type": "markdown",
   "id": "9ca781d2",
   "metadata": {},
   "source": [
    "3)"
   ]
  },
  {
   "cell_type": "code",
   "execution_count": 1,
   "id": "1ddf421b",
   "metadata": {},
   "outputs": [
    {
     "data": {
      "image/png": "[encoded data removed]",
      "text/plain": [
       "<Figure size 432x288 with 1 Axes>"
      ]
     },
     "metadata": {
      "needs_background": "light"
     },
     "output_type": "display_data"
    }
   ],
   "source": [
    "import numpy as np\n",
    "import matplotlib.pyplot as plt\n",
    "\n",
    "def target_distribution(x):\n",
    "    return np.exp(-(x - 2)**2 / (2 * 0.5**2))\n",
    "\n",
    "def metropolis_sampling(n_iterations, initial_x, proposal_sd):\n",
    "    samples = [initial_x]\n",
    "    current_x = initial_x\n",
    "\n",
    "    for _ in range(n_iterations):\n",
    "        proposed_x = np.random.normal(\n",
    "            current_x, proposal_sd\n",
    "        )\n",
    "        acceptance_ratio = min(\n",
    "            1,\n",
    "            target_distribution(proposed_x) /\n",
    "            target_distribution(current_x))\n",
    "\n",
    "        if np.random.uniform() < acceptance_ratio:\n",
    "            current_x = proposed_x\n",
    "\n",
    "        samples.append(current_x)\n",
    "\n",
    "    return samples\n",
    "\n",
    "n_iterations = 1000\n",
    "initial_x = 0\n",
    "proposal_sd = 1\n",
    "\n",
    "samples = metropolis_sampling(n_iterations, initial_x, proposal_sd)\n",
    "\n",
    "plt.figure()\n",
    "plt.hist(samples,\n",
    "         bins=30,\n",
    "         density=True,\n",
    "         alpha=0.7,\n",
    "         color='b',\n",
    "         edgecolor='black', zorder=2)\n",
    "x_values = np.linspace(-5, 5, 1000)\n",
    "plt.plot(x_values, target_distribution(x_values), 'r', linewidth=2, zorder=3)\n",
    "plt.xlabel('x')\n",
    "plt.ylabel('Densidad de probabilidad')\n",
    "plt.title('Muestreo de metrópolis a partir de una distribución normal')\n",
    "plt.legend(['Distribución objetivo', 'Distribución muestreada'])\n",
    "plt.grid(True, alpha=0.6, zorder=1)\n",
    "plt.show()\n"
   ]
  },
  {
   "cell_type": "markdown",
   "id": "4fe0e3d0",
   "metadata": {},
   "source": [
    "4)"
   ]
  },
  {
   "cell_type": "code",
   "execution_count": 6,
   "id": "31ca390e",
   "metadata": {},
   "outputs": [
    {
     "name": "stdout",
     "output_type": "stream",
     "text": [
      "Media posterior: 0.3675114892176248\n",
      "Desviación estándar posterior: 1.7504230211640484\n",
      "Cuantiles: [-1.00821238  1.96043419]\n"
     ]
    }
   ],
   "source": [
    "import numpy as np\n",
    "import scipy.stats as stats\n",
    "\n",
    "def cauchy(x):\n",
    "    return 1 / (1 + x**2)\n",
    "\n",
    "def metropolis_cauchy(n_iteraciones, valor_inicial):\n",
    "    muestras = [valor_inicial]\n",
    "    valor_actual = valor_inicial\n",
    "\n",
    "    for _ in range(n_iteraciones):\n",
    "        valor_propuesto = valor_actual + np.random.normal(0, 1)\n",
    "\n",
    "        ratio_aceptacion = cauchy(valor_propuesto) / cauchy(valor_actual)\n",
    "        probabilidad_aceptacion = min(1, ratio_aceptacion)\n",
    "        if np.random.uniform() < probabilidad_aceptacion:\n",
    "            valor_actual = valor_propuesto\n",
    "\n",
    "        muestras.append(valor_actual)\n",
    "\n",
    "    return muestras\n",
    "\n",
    "n_iteraciones = 1000\n",
    "valor_inicial = 0  # El valor inicial puede ser cualquier valor\n",
    "\n",
    "muestras = metropolis_cauchy(n_iteraciones, valor_inicial)\n",
    "\n",
    "media_posterior = np.mean(muestras)\n",
    "desviacion_estandar_posterior = np.std(muestras)\n",
    "cuantiles = np.percentile(muestras, [16, 84])\n",
    "\n",
    "print(\"Media posterior:\", media_posterior)\n",
    "print(\"Desviación estándar posterior:\", desviacion_estandar_posterior)\n",
    "print(\"Cuantiles:\", cuantiles)\n"
   ]
  },
  {
   "cell_type": "code",
   "execution_count": null,
   "id": "1b58d647",
   "metadata": {},
   "outputs": [],
   "source": []
  },
  {
   "cell_type": "code",
   "execution_count": null,
   "id": "d5d2f571",
   "metadata": {},
   "outputs": [],
   "source": []
  }
 ],
 "metadata": {
  "kernelspec": {
   "display_name": "Python 3",
   "language": "python",
   "name": "python3"
  },
  "language_info": {
   "codemirror_mode": {
    "name": "ipython",
    "version": 3
   },
   "file_extension": ".py",
   "mimetype": "text/x-python",
   "name": "python",
   "nbconvert_exporter": "python",
   "pygments_lexer": "ipython3",
   "version": "3.8.8"
  }
 },
 "nbformat": 4,
 "nbformat_minor": 5
}
