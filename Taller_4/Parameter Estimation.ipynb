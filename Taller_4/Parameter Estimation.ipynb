{
 "cells": [
  {
   "cell_type": "code",
   "execution_count": null,
   "id": "fa63c491",
   "metadata": {},
   "outputs": [],
   "source": [
    "3)"
   ]
  },
  {
   "cell_type": "code",
   "execution_count": 6,
   "id": "4c6fbeff",
   "metadata": {},
   "outputs": [
    {
     "name": "stderr",
     "output_type": "stream",
     "text": [
      "<ipython-input-6-e6483030fbe7>:22: RuntimeWarning: divide by zero encountered in log\n",
      "  log_posterior = np.log(prior_uniform_distribution(mean, std_dev) * gaussian_likelihood(mean, std_dev, data))\n"
     ]
    },
    {
     "name": "stdout",
     "output_type": "stream",
     "text": [
      "El mejor valor estimado para la media es: 4.006037020371882\n",
      "El mejor valor estimado para la desviación estándar es: 1.8347941975802142\n",
      "Los valores de error (sigma+) y (sigma-) para la media en un intervalo de confianza del CL = 68% son: 0.1797623657039975 y 0.18392066794940565\n",
      "Los valores de error (sigma+) y (sigma-) para la desviación estándar en un intervalo de confianza del CL = 68% son: 0.1238500091857686 y 0.1336493521124913\n"
     ]
    }
   ],
   "source": [
    "import pandas as pd\n",
    "import numpy as np\n",
    "\n",
    "# Descargar los datos de Gaussian Data\n",
    "url = 'https://raw.githubusercontent.com/asegura4488/Database/main/MetodosComputacionalesReforma/Gaussiano.csv'\n",
    "data = pd.read_csv(url)\n",
    "histogram_data = data['x'].values\n",
    "\n",
    "def prior_uniform_distribution(mean, std_dev):\n",
    "    value = 0\n",
    "    if (3 <= mean <= 5) and (0.5 <= std_dev <= 3.5):\n",
    "        value = 1\n",
    "    return value\n",
    "\n",
    "def gaussian_likelihood(mean, std_dev, data):\n",
    "    likelihood = 1\n",
    "    for x in data:\n",
    "        likelihood *= (np.sqrt(2 * np.pi * std_dev**2))**(-1) * np.exp(-(mean - x)**2 / (2 * std_dev**2))\n",
    "    return likelihood\n",
    "\n",
    "def calculate_log_posterior(mean, std_dev, data):\n",
    "    log_posterior = np.log(prior_uniform_distribution(mean, std_dev) * gaussian_likelihood(mean, std_dev, data))\n",
    "    return log_posterior\n",
    "\n",
    "def metropolis_algorithm(data):\n",
    "    num_samples = 2 * 10**4\n",
    "    mean_current = np.random.uniform(3, 5)\n",
    "    std_dev_current = np.random.uniform(0.5, 3.5)\n",
    "    log_posterior_current = calculate_log_posterior(mean_current, std_dev_current, data)\n",
    "    \n",
    "    mean_samples = [mean_current]\n",
    "    std_dev_samples = [std_dev_current]\n",
    "    \n",
    "    for _ in range(num_samples):\n",
    "        mean_proposed = np.random.normal(mean_current, 0.1)\n",
    "        std_dev_proposed = np.random.normal(std_dev_current, 0.1)\n",
    "        log_posterior_proposed = calculate_log_posterior(mean_proposed, std_dev_proposed, data)\n",
    "        \n",
    "        if log_posterior_proposed > log_posterior_current:\n",
    "            mean_current = mean_proposed\n",
    "            std_dev_current = std_dev_proposed\n",
    "            log_posterior_current = log_posterior_proposed\n",
    "        else:\n",
    "            acceptance_prob = np.exp(log_posterior_proposed - log_posterior_current)\n",
    "            if np.random.uniform() < acceptance_prob:\n",
    "                mean_current = mean_proposed\n",
    "                std_dev_current = std_dev_proposed\n",
    "                log_posterior_current = log_posterior_proposed\n",
    "                \n",
    "        mean_samples.append(mean_current)\n",
    "        std_dev_samples.append(std_dev_current)\n",
    "    \n",
    "    return mean_samples, std_dev_samples\n",
    "\n",
    "mean_samples, std_dev_samples = metropolis_algorithm(histogram_data)\n",
    "\n",
    "# Estimar el mejor valor de los parámetros del modelo (mean_hat, std_dev_hat)\n",
    "mean_hat = np.percentile(mean_samples, 50)\n",
    "std_dev_hat = np.percentile(std_dev_samples, 50)\n",
    "\n",
    "print(\"El mejor valor estimado para la media es:\", mean_hat)\n",
    "print(\"El mejor valor estimado para la desviación estándar es:\", std_dev_hat)\n",
    "\n",
    "# Encontrar los errores sigma+ y sigma- de los parámetros en un intervalo de confianza del CL = 68%\n",
    "mean_low = np.percentile(mean_samples, 16)\n",
    "mean_up = np.percentile(mean_samples, 84)\n",
    "std_dev_low = np.percentile(std_dev_samples, 16)\n",
    "std_dev_up = np.percentile(std_dev_samples, 84)\n",
    "\n",
    "print(\"Los valores de error (sigma+) y (sigma-) para la media en un intervalo de confianza del CL = 68% son:\", mean_hat - mean_low, \"y\", mean_up - mean_hat)\n",
    "print(\"Los valores de error (sigma+) y (sigma-) para la desviación estándar en un intervalo de confianza del CL = 68% son:\", std_dev_hat - std_dev_low, \"y\", std_dev_up - std_dev_hat)\n"
   ]
  },
  {
   "cell_type": "code",
   "execution_count": 8,
   "id": "d339719f",
   "metadata": {},
   "outputs": [
    {
     "name": "stdout",
     "output_type": "stream",
     "text": [
      "Requirement already satisfied: emcee in c:\\users\\samue\\anaconda3\\lib\\site-packages (3.1.4)\n",
      "Requirement already satisfied: numpy in c:\\users\\samue\\anaconda3\\lib\\site-packages (from emcee) (1.20.1)\n",
      "Note: you may need to restart the kernel to use updated packages.\n"
     ]
    }
   ],
   "source": [
    "pip install emcee\n"
   ]
  },
  {
   "cell_type": "markdown",
   "id": "61c0305f",
   "metadata": {},
   "source": [
    "4)"
   ]
  },
  {
   "cell_type": "code",
   "execution_count": 12,
   "id": "c61010ef",
   "metadata": {},
   "outputs": [
    {
     "name": "stderr",
     "output_type": "stream",
     "text": [
      "  0%|                                                                                          | 0/500 [00:00<?, ?it/s]<ipython-input-12-b06763db62f1>:23: RuntimeWarning: divide by zero encountered in log\n",
      "  return np.log(prior_uniform_distribution(mean, std_dev))\n",
      "<ipython-input-12-b06763db62f1>:27: RuntimeWarning: divide by zero encountered in log\n",
      "  return np.log(gaussian_likelihood(mean, std_dev, histogram_data))\n",
      "100%|████████████████████████████████████████████████████████████████████████████████| 500/500 [00:15<00:00, 32.96it/s]"
     ]
    },
    {
     "name": "stdout",
     "output_type": "stream",
     "text": [
      "4.022037573211957\n",
      "1.828896447293159\n",
      "0.1883332952169905\n",
      "0.18268307062057332\n",
      "0.12820216270390627\n",
      "0.13957937546205001\n"
     ]
    },
    {
     "name": "stderr",
     "output_type": "stream",
     "text": [
      "\n"
     ]
    }
   ],
   "source": [
    "import pandas as pd\n",
    "import numpy as np\n",
    "import emcee\n",
    "\n",
    "url = 'https://raw.githubusercontent.com/asegura4488/Database/main/MetodosComputacionalesReforma/Gaussiano.csv'\n",
    "data = pd.read_csv(url)\n",
    "histogram_data = data['x'].values\n",
    "\n",
    "def prior_uniform_distribution(mean, std_dev):\n",
    "    value = 0\n",
    "    if (3 <= mean <= 5) and (0.5 <= std_dev <= 3.5):\n",
    "        value = 1\n",
    "    return value\n",
    "\n",
    "def gaussian_likelihood(mean, std_dev, data):\n",
    "    likelihood = 1\n",
    "    for x in data:\n",
    "        likelihood *= (np.sqrt(2 * np.pi * std_dev**2))**(-1) * np.exp(-(mean - x)**2 / (2 * std_dev**2))\n",
    "    return likelihood\n",
    "\n",
    "def log_prior(params):\n",
    "    mean, std_dev = params\n",
    "    return np.log(prior_uniform_distribution(mean, std_dev))\n",
    "\n",
    "def log_likelihood(params):\n",
    "    mean, std_dev = params\n",
    "    return np.log(gaussian_likelihood(mean, std_dev, histogram_data))\n",
    "\n",
    "def log_posterior(params):\n",
    "    return log_prior(params) + log_likelihood(params)\n",
    "\n",
    "ndim = 2\n",
    "nwalkers = 50\n",
    "nsteps = 500\n",
    "\n",
    "pos = np.random.uniform(low=[3, 0.5], high=[5, 3.5], size=(nwalkers, ndim))\n",
    "\n",
    "sampler = emcee.EnsembleSampler(nwalkers, ndim, log_posterior)\n",
    "\n",
    "sampler.run_mcmc(pos, nsteps, progress=True)\n",
    "\n",
    "samples = sampler.get_chain(discard=100, flat=True)\n",
    "\n",
    "mean_hat = np.percentile(samples[:, 0], 50)\n",
    "std_dev_hat = np.percentile(samples[:, 1], 50)\n",
    "\n",
    "mean_low = np.percentile(samples[:, 0], 16)\n",
    "mean_up = np.percentile(samples[:, 0], 84)\n",
    "std_dev_low = np.percentile(samples[:, 1], 16)\n",
    "std_dev_up = np.percentile(samples[:, 1], 84)\n",
    "\n",
    "print(mean_hat)\n",
    "print(std_dev_hat)\n",
    "print(mean_hat - mean_low)\n",
    "print(mean_up - mean_hat)\n",
    "print(std_dev_hat - std_dev_low)\n",
    "print(std_dev_up - std_dev_hat)\n"
   ]
  }
 ],
 "metadata": {
  "kernelspec": {
   "display_name": "Python 3",
   "language": "python",
   "name": "python3"
  },
  "language_info": {
   "codemirror_mode": {
    "name": "ipython",
    "version": 3
   },
   "file_extension": ".py",
   "mimetype": "text/x-python",
   "name": "python",
   "nbconvert_exporter": "python",
   "pygments_lexer": "ipython3",
   "version": "3.8.8"
  }
 },
 "nbformat": 4,
 "nbformat_minor": 5
}
